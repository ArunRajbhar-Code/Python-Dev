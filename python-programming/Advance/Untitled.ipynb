{
 "cells": [
  {
   "cell_type": "code",
   "execution_count": 1,
   "id": "e2dbeddf-9da2-4b8c-b470-74bd7d1da4a4",
   "metadata": {},
   "outputs": [
    {
     "name": "stdout",
     "output_type": "stream",
     "text": [
      "hello\n"
     ]
    }
   ],
   "source": [
    "print(\"hello\")"
   ]
  },
  {
   "cell_type": "code",
   "execution_count": 2,
   "id": "f28e59cf-2178-45ec-82c5-5c945cc3fc49",
   "metadata": {},
   "outputs": [
    {
     "name": "stdout",
     "output_type": "stream",
     "text": [
      "hi man\n"
     ]
    }
   ],
   "source": [
    "print(\"hi man\")"
   ]
  },
  {
   "cell_type": "code",
   "execution_count": 3,
   "id": "a7c63ff2-7004-45d4-8b7e-f1ca8ad0e6c7",
   "metadata": {},
   "outputs": [
    {
     "name": "stdout",
     "output_type": "stream",
     "text": [
      "doing well\n"
     ]
    }
   ],
   "source": [
    "print(\"doing well\")"
   ]
  },
  {
   "cell_type": "code",
   "execution_count": null,
   "id": "7144aca7-df54-4511-b262-b8bbad0f3277",
   "metadata": {},
   "outputs": [],
   "source": []
  }
 ],
 "metadata": {
  "kernelspec": {
   "display_name": "Python 3 (ipykernel)",
   "language": "python",
   "name": "python3"
  },
  "language_info": {
   "codemirror_mode": {
    "name": "ipython",
    "version": 3
   },
   "file_extension": ".py",
   "mimetype": "text/x-python",
   "name": "python",
   "nbconvert_exporter": "python",
   "pygments_lexer": "ipython3",
   "version": "3.11.1"
  }
 },
 "nbformat": 4,
 "nbformat_minor": 5
}
